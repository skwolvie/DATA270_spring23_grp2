{
 "cells": [
  {
   "cell_type": "code",
   "execution_count": 2,
   "metadata": {},
   "outputs": [],
   "source": [
    "import pandas as pd\n",
    "import os\n",
    "os.chdir('../data')"
   ]
  },
  {
   "cell_type": "code",
   "execution_count": 6,
   "metadata": {},
   "outputs": [
    {
     "data": {
      "text/plain": [
       "['bike_demand_v2.csv',\n",
       " 'clean_gas_scaled.csv',\n",
       " 'clean_traffic_PCA.csv',\n",
       " 'savepoints',\n",
       " 'traffic',\n",
       " 'trips',\n",
       " 'weather',\n",
       " 'weather_clean.csv',\n",
       " 'weekavg_gas']"
      ]
     },
     "execution_count": 6,
     "metadata": {},
     "output_type": "execute_result"
    }
   ],
   "source": [
    "os.listdir()"
   ]
  },
  {
   "cell_type": "code",
   "execution_count": 12,
   "metadata": {},
   "outputs": [
    {
     "name": "stdout",
     "output_type": "stream",
     "text": [
      "Index(['station_id', 'date', 'station_name', 'station_lat', 'station_long',\n",
      "       'station_nts', 'station_boro', 'city', 'day', 'dayofweek', 'dayofyear',\n",
      "       'week', 'weekend', 'month', 'month_year', 'year',\n",
      "       'target_ridecount_outflow', 'neighbor_rco_T', 'boro_rco_T',\n",
      "       'city_rco_T'],\n",
      "      dtype='object')\n",
      "Index(['date', 'nyc_gasprice_avg', 'nyc_gasprice_avg_stdS',\n",
      "       'nyc_gasprice_avg_mmS'],\n",
      "      dtype='object')\n",
      "Index(['date', 'retail_traffic', 'grocery_pharma_traffic', 'parks_traffic',\n",
      "       'transit_traffic', 'workplace_traffic', 'residential_traffic',\n",
      "       'retail_traffic_stdS', 'grocery_pharma_traffic_stdS',\n",
      "       'parks_traffic_stdS', 'transit_traffic_stdS', 'workplace_traffic_stdS',\n",
      "       'residential_traffic_stdS', 'retail_traffic_mmS',\n",
      "       'grocery_pharma_traffic_mmS', 'parks_traffic_mmS',\n",
      "       'transit_traffic_mmS', 'workplace_traffic_mmS',\n",
      "       'residential_traffic_mmS', 'traffic_stdS_PC1', 'traffic_stdS_PC2'],\n",
      "      dtype='object')\n",
      "Index(['date', 'day_condition', 'temp_min', 'temp_max', 'temp_mean',\n",
      "       'precipprob_max', 'visibility_min', 'visibility_max', 'visibility_mean',\n",
      "       'uvindex_min', 'uvindex_max', 'uvindex_mean'],\n",
      "      dtype='object')\n"
     ]
    }
   ],
   "source": [
    "df= pd.read_csv('bike_demand_v2.csv')\n",
    "df.drop(columns='Unnamed: 0', inplace=True)\n",
    "df1= pd.read_csv('clean_gas_scaled.csv')\n",
    "df2= pd.read_csv('clean_traffic_PCA.csv')\n",
    "df3= pd.read_csv('weather_clean.csv')\n",
    "\n",
    "print(df.columns)\n",
    "print(df1.columns)\n",
    "print(df2.columns)\n",
    "print(df3.columns)"
   ]
  },
  {
   "cell_type": "code",
   "execution_count": 14,
   "metadata": {},
   "outputs": [],
   "source": [
    "df['date']= df['date'].astype('datetime64[ns]')\n",
    "df1['date']= df1['date'].astype('datetime64[ns]')\n",
    "df2['date']= df2['date'].astype('datetime64[ns]')\n",
    "df3['date']= df3['date'].astype('datetime64[ns]')"
   ]
  },
  {
   "cell_type": "code",
   "execution_count": 15,
   "metadata": {},
   "outputs": [
    {
     "name": "stdout",
     "output_type": "stream",
     "text": [
      "(229770, 20)\n"
     ]
    }
   ],
   "source": [
    "print(df.shape)"
   ]
  },
  {
   "cell_type": "code",
   "execution_count": 17,
   "metadata": {},
   "outputs": [
    {
     "data": {
      "text/plain": [
       "(229770, 54)"
      ]
     },
     "execution_count": 17,
     "metadata": {},
     "output_type": "execute_result"
    }
   ],
   "source": [
    "d= df.merge(df1).merge(df2).merge(df3)\n",
    "d.shape"
   ]
  },
  {
   "cell_type": "code",
   "execution_count": 18,
   "metadata": {},
   "outputs": [
    {
     "name": "stdout",
     "output_type": "stream",
     "text": [
      "<class 'pandas.core.frame.DataFrame'>\n",
      "Int64Index: 229770 entries, 0 to 229769\n",
      "Data columns (total 54 columns):\n",
      " #   Column                       Non-Null Count   Dtype         \n",
      "---  ------                       --------------   -----         \n",
      " 0   station_id                   229770 non-null  float64       \n",
      " 1   date                         229770 non-null  datetime64[ns]\n",
      " 2   station_name                 229770 non-null  object        \n",
      " 3   station_lat                  229770 non-null  float64       \n",
      " 4   station_long                 229770 non-null  float64       \n",
      " 5   station_nts                  229770 non-null  object        \n",
      " 6   station_boro                 229770 non-null  object        \n",
      " 7   city                         229770 non-null  object        \n",
      " 8   day                          229770 non-null  int64         \n",
      " 9   dayofweek                    229770 non-null  int64         \n",
      " 10  dayofyear                    229770 non-null  int64         \n",
      " 11  week                         229770 non-null  int64         \n",
      " 12  weekend                      229770 non-null  int64         \n",
      " 13  month                        229770 non-null  int64         \n",
      " 14  month_year                   229770 non-null  object        \n",
      " 15  year                         229770 non-null  int64         \n",
      " 16  target_ridecount_outflow     229770 non-null  float64       \n",
      " 17  neighbor_rco_T               229770 non-null  float64       \n",
      " 18  boro_rco_T                   229770 non-null  float64       \n",
      " 19  city_rco_T                   229770 non-null  float64       \n",
      " 20  nyc_gasprice_avg             229770 non-null  float64       \n",
      " 21  nyc_gasprice_avg_stdS        229770 non-null  float64       \n",
      " 22  nyc_gasprice_avg_mmS         229770 non-null  float64       \n",
      " 23  retail_traffic               229770 non-null  float64       \n",
      " 24  grocery_pharma_traffic       229770 non-null  float64       \n",
      " 25  parks_traffic                229770 non-null  float64       \n",
      " 26  transit_traffic              229770 non-null  float64       \n",
      " 27  workplace_traffic            229770 non-null  float64       \n",
      " 28  residential_traffic          229770 non-null  float64       \n",
      " 29  retail_traffic_stdS          229770 non-null  float64       \n",
      " 30  grocery_pharma_traffic_stdS  229770 non-null  float64       \n",
      " 31  parks_traffic_stdS           229770 non-null  float64       \n",
      " 32  transit_traffic_stdS         229770 non-null  float64       \n",
      " 33  workplace_traffic_stdS       229770 non-null  float64       \n",
      " 34  residential_traffic_stdS     229770 non-null  float64       \n",
      " 35  retail_traffic_mmS           229770 non-null  float64       \n",
      " 36  grocery_pharma_traffic_mmS   229770 non-null  float64       \n",
      " 37  parks_traffic_mmS            229770 non-null  float64       \n",
      " 38  transit_traffic_mmS          229770 non-null  float64       \n",
      " 39  workplace_traffic_mmS        229770 non-null  float64       \n",
      " 40  residential_traffic_mmS      229770 non-null  float64       \n",
      " 41  traffic_stdS_PC1             229770 non-null  float64       \n",
      " 42  traffic_stdS_PC2             229770 non-null  float64       \n",
      " 43  day_condition                229770 non-null  object        \n",
      " 44  temp_min                     229770 non-null  float64       \n",
      " 45  temp_max                     229770 non-null  float64       \n",
      " 46  temp_mean                    229770 non-null  float64       \n",
      " 47  precipprob_max               229770 non-null  float64       \n",
      " 48  visibility_min               229770 non-null  float64       \n",
      " 49  visibility_max               229770 non-null  float64       \n",
      " 50  visibility_mean              229770 non-null  float64       \n",
      " 51  uvindex_min                  229770 non-null  int64         \n",
      " 52  uvindex_max                  229770 non-null  int64         \n",
      " 53  uvindex_mean                 229770 non-null  float64       \n",
      "dtypes: datetime64[ns](1), float64(38), int64(9), object(6)\n",
      "memory usage: 96.4+ MB\n"
     ]
    }
   ],
   "source": [
    "d.info()"
   ]
  },
  {
   "cell_type": "code",
   "execution_count": 19,
   "metadata": {},
   "outputs": [],
   "source": [
    "d.to_csv('../data/final/cleaned_nontransformed.csv', index=False)"
   ]
  },
  {
   "cell_type": "code",
   "execution_count": null,
   "metadata": {},
   "outputs": [],
   "source": []
  }
 ],
 "metadata": {
  "kernelspec": {
   "display_name": "base",
   "language": "python",
   "name": "python3"
  },
  "language_info": {
   "codemirror_mode": {
    "name": "ipython",
    "version": 3
   },
   "file_extension": ".py",
   "mimetype": "text/x-python",
   "name": "python",
   "nbconvert_exporter": "python",
   "pygments_lexer": "ipython3",
   "version": "3.8.13"
  },
  "orig_nbformat": 4
 },
 "nbformat": 4,
 "nbformat_minor": 2
}
