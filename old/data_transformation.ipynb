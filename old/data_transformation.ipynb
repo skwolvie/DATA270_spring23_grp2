{
 "cells": [
  {
   "cell_type": "code",
   "execution_count": 1,
   "metadata": {},
   "outputs": [],
   "source": [
    "import pandas as pd\n",
    "import numpy as np\n",
    "import os"
   ]
  },
  {
   "cell_type": "code",
   "execution_count": 2,
   "metadata": {},
   "outputs": [
    {
     "data": {
      "text/plain": [
       "(229770, 54)"
      ]
     },
     "execution_count": 2,
     "metadata": {},
     "output_type": "execute_result"
    }
   ],
   "source": [
    "df= pd.read_csv('../data/final/cleaned_nontransformed.csv', low_memory=False)\n",
    "df.shape"
   ]
  },
  {
   "cell_type": "code",
   "execution_count": 3,
   "metadata": {},
   "outputs": [
    {
     "data": {
      "text/plain": [
       "(229770, 54)"
      ]
     },
     "execution_count": 3,
     "metadata": {},
     "output_type": "execute_result"
    }
   ],
   "source": [
    "df.shape"
   ]
  },
  {
   "cell_type": "code",
   "execution_count": 4,
   "metadata": {},
   "outputs": [
    {
     "name": "stdout",
     "output_type": "stream",
     "text": [
      "<class 'pandas.core.frame.DataFrame'>\n",
      "RangeIndex: 229770 entries, 0 to 229769\n",
      "Data columns (total 54 columns):\n",
      " #   Column                       Non-Null Count   Dtype  \n",
      "---  ------                       --------------   -----  \n",
      " 0   station_id                   229770 non-null  float64\n",
      " 1   date                         229770 non-null  object \n",
      " 2   station_name                 229770 non-null  object \n",
      " 3   station_lat                  229770 non-null  float64\n",
      " 4   station_long                 229770 non-null  float64\n",
      " 5   station_nts                  229770 non-null  object \n",
      " 6   station_boro                 229770 non-null  object \n",
      " 7   city                         229770 non-null  object \n",
      " 8   day                          229770 non-null  int64  \n",
      " 9   dayofweek                    229770 non-null  int64  \n",
      " 10  dayofyear                    229770 non-null  int64  \n",
      " 11  week                         229770 non-null  int64  \n",
      " 12  weekend                      229770 non-null  int64  \n",
      " 13  month                        229770 non-null  int64  \n",
      " 14  month_year                   229770 non-null  object \n",
      " 15  year                         229770 non-null  int64  \n",
      " 16  target_ridecount_outflow     229770 non-null  float64\n",
      " 17  neighbor_rco_T               229770 non-null  float64\n",
      " 18  boro_rco_T                   229770 non-null  float64\n",
      " 19  city_rco_T                   229770 non-null  float64\n",
      " 20  nyc_gasprice_avg             229770 non-null  float64\n",
      " 21  nyc_gasprice_avg_stdS        229770 non-null  float64\n",
      " 22  nyc_gasprice_avg_mmS         229770 non-null  float64\n",
      " 23  retail_traffic               229770 non-null  float64\n",
      " 24  grocery_pharma_traffic       229770 non-null  float64\n",
      " 25  parks_traffic                229770 non-null  float64\n",
      " 26  transit_traffic              229770 non-null  float64\n",
      " 27  workplace_traffic            229770 non-null  float64\n",
      " 28  residential_traffic          229770 non-null  float64\n",
      " 29  retail_traffic_stdS          229770 non-null  float64\n",
      " 30  grocery_pharma_traffic_stdS  229770 non-null  float64\n",
      " 31  parks_traffic_stdS           229770 non-null  float64\n",
      " 32  transit_traffic_stdS         229770 non-null  float64\n",
      " 33  workplace_traffic_stdS       229770 non-null  float64\n",
      " 34  residential_traffic_stdS     229770 non-null  float64\n",
      " 35  retail_traffic_mmS           229770 non-null  float64\n",
      " 36  grocery_pharma_traffic_mmS   229770 non-null  float64\n",
      " 37  parks_traffic_mmS            229770 non-null  float64\n",
      " 38  transit_traffic_mmS          229770 non-null  float64\n",
      " 39  workplace_traffic_mmS        229770 non-null  float64\n",
      " 40  residential_traffic_mmS      229770 non-null  float64\n",
      " 41  traffic_stdS_PC1             229770 non-null  float64\n",
      " 42  traffic_stdS_PC2             229770 non-null  float64\n",
      " 43  day_condition                229770 non-null  object \n",
      " 44  temp_min                     229770 non-null  float64\n",
      " 45  temp_max                     229770 non-null  float64\n",
      " 46  temp_mean                    229770 non-null  float64\n",
      " 47  precipprob_max               229770 non-null  float64\n",
      " 48  visibility_min               229770 non-null  float64\n",
      " 49  visibility_max               229770 non-null  float64\n",
      " 50  visibility_mean              229770 non-null  float64\n",
      " 51  uvindex_min                  229770 non-null  int64  \n",
      " 52  uvindex_max                  229770 non-null  int64  \n",
      " 53  uvindex_mean                 229770 non-null  float64\n",
      "dtypes: float64(38), int64(9), object(7)\n",
      "memory usage: 94.7+ MB\n"
     ]
    }
   ],
   "source": [
    "df.info()"
   ]
  },
  {
   "cell_type": "code",
   "execution_count": 5,
   "metadata": {},
   "outputs": [
    {
     "data": {
      "text/plain": [
       "3704.08    621\n",
       "5575.13    621\n",
       "5721.14    621\n",
       "5779.09    621\n",
       "5746.14    621\n",
       "          ... \n",
       "4663.06    621\n",
       "4623.02    621\n",
       "4861.05    621\n",
       "4748.07    621\n",
       "7967.04    621\n",
       "Name: station_id, Length: 370, dtype: int64"
      ]
     },
     "execution_count": 5,
     "metadata": {},
     "output_type": "execute_result"
    }
   ],
   "source": [
    "df['station_id'].value_counts()"
   ]
  },
  {
   "cell_type": "code",
   "execution_count": 23,
   "metadata": {},
   "outputs": [
    {
     "name": "stderr",
     "output_type": "stream",
     "text": [
      "C:\\Users\\31405.ISBDOMAIN1\\AppData\\Local\\Temp\\ipykernel_48412\\260654742.py:7: SettingWithCopyWarning: \n",
      "A value is trying to be set on a copy of a slice from a DataFrame.\n",
      "Try using .loc[row_indexer,col_indexer] = value instead\n",
      "\n",
      "See the caveats in the documentation: https://pandas.pydata.org/pandas-docs/stable/user_guide/indexing.html#returning-a-view-versus-a-copy\n",
      "  d['date']= pd.to_datetime(d['date'])\n",
      "c:\\Users\\31405.ISBDOMAIN1\\Anaconda3\\lib\\site-packages\\statsmodels\\tsa\\base\\tsa_model.py:536: ValueWarning: No frequency information was provided, so inferred frequency D will be used.\n",
      "  warnings.warn('No frequency information was'\n"
     ]
    }
   ],
   "source": [
    "import pandas as pd\n",
    "import matplotlib.pyplot as plt\n",
    "from statsmodels.tsa.api import SimpleExpSmoothing\n",
    "\n",
    "# Load the time series data\n",
    "d= df[df['station_id']==3704.08]\n",
    "d['date']= pd.to_datetime(d['date'])\n",
    "d= d.set_index('date')\n",
    "# Fit the simple exponential smoothing model\n",
    "fit = SimpleExpSmoothing(d[['target_ridecount_outflow']]).fit()\n",
    "\n",
    "d['smoothT']= fit.fittedvalues\n",
    "# Generate the forecasts for the next 3 periods"
   ]
  },
  {
   "cell_type": "code",
   "execution_count": 24,
   "metadata": {},
   "outputs": [
    {
     "data": {
      "text/html": [
       "<div>\n",
       "<style scoped>\n",
       "    .dataframe tbody tr th:only-of-type {\n",
       "        vertical-align: middle;\n",
       "    }\n",
       "\n",
       "    .dataframe tbody tr th {\n",
       "        vertical-align: top;\n",
       "    }\n",
       "\n",
       "    .dataframe thead th {\n",
       "        text-align: right;\n",
       "    }\n",
       "</style>\n",
       "<table border=\"1\" class=\"dataframe\">\n",
       "  <thead>\n",
       "    <tr style=\"text-align: right;\">\n",
       "      <th></th>\n",
       "      <th>smoothT</th>\n",
       "      <th>target_ridecount_outflow</th>\n",
       "    </tr>\n",
       "    <tr>\n",
       "      <th>date</th>\n",
       "      <th></th>\n",
       "      <th></th>\n",
       "    </tr>\n",
       "  </thead>\n",
       "  <tbody>\n",
       "    <tr>\n",
       "      <th>2021-02-02</th>\n",
       "      <td>10.546372</td>\n",
       "      <td>2.0</td>\n",
       "    </tr>\n",
       "    <tr>\n",
       "      <th>2021-02-03</th>\n",
       "      <td>9.380616</td>\n",
       "      <td>2.0</td>\n",
       "    </tr>\n",
       "    <tr>\n",
       "      <th>2021-02-04</th>\n",
       "      <td>8.373873</td>\n",
       "      <td>6.0</td>\n",
       "    </tr>\n",
       "    <tr>\n",
       "      <th>2021-02-05</th>\n",
       "      <td>8.050068</td>\n",
       "      <td>11.0</td>\n",
       "    </tr>\n",
       "    <tr>\n",
       "      <th>2021-02-06</th>\n",
       "      <td>8.452449</td>\n",
       "      <td>37.0</td>\n",
       "    </tr>\n",
       "    <tr>\n",
       "      <th>...</th>\n",
       "      <td>...</td>\n",
       "      <td>...</td>\n",
       "    </tr>\n",
       "    <tr>\n",
       "      <th>2022-10-11</th>\n",
       "      <td>18.395957</td>\n",
       "      <td>30.0</td>\n",
       "    </tr>\n",
       "    <tr>\n",
       "      <th>2022-10-12</th>\n",
       "      <td>19.978790</td>\n",
       "      <td>19.0</td>\n",
       "    </tr>\n",
       "    <tr>\n",
       "      <th>2022-10-13</th>\n",
       "      <td>19.845280</td>\n",
       "      <td>12.0</td>\n",
       "    </tr>\n",
       "    <tr>\n",
       "      <th>2022-10-14</th>\n",
       "      <td>18.775155</td>\n",
       "      <td>25.0</td>\n",
       "    </tr>\n",
       "    <tr>\n",
       "      <th>2022-10-15</th>\n",
       "      <td>19.624247</td>\n",
       "      <td>29.0</td>\n",
       "    </tr>\n",
       "  </tbody>\n",
       "</table>\n",
       "<p>621 rows × 2 columns</p>\n",
       "</div>"
      ],
      "text/plain": [
       "              smoothT  target_ridecount_outflow\n",
       "date                                           \n",
       "2021-02-02  10.546372                       2.0\n",
       "2021-02-03   9.380616                       2.0\n",
       "2021-02-04   8.373873                       6.0\n",
       "2021-02-05   8.050068                      11.0\n",
       "2021-02-06   8.452449                      37.0\n",
       "...               ...                       ...\n",
       "2022-10-11  18.395957                      30.0\n",
       "2022-10-12  19.978790                      19.0\n",
       "2022-10-13  19.845280                      12.0\n",
       "2022-10-14  18.775155                      25.0\n",
       "2022-10-15  19.624247                      29.0\n",
       "\n",
       "[621 rows x 2 columns]"
      ]
     },
     "execution_count": 24,
     "metadata": {},
     "output_type": "execute_result"
    }
   ],
   "source": [
    "d[['smoothT', 'target_ridecount_outflow']]"
   ]
  },
  {
   "cell_type": "code",
   "execution_count": 25,
   "metadata": {},
   "outputs": [],
   "source": [
    "d.reset_index(inplace=True)"
   ]
  },
  {
   "cell_type": "code",
   "execution_count": null,
   "metadata": {},
   "outputs": [],
   "source": []
  },
  {
   "cell_type": "code",
   "execution_count": 27,
   "metadata": {},
   "outputs": [
    {
     "data": {
      "image/png": "[encoded data removed]",
      "text/plain": [
       "<Figure size 640x480 with 1 Axes>"
      ]
     },
     "metadata": {},
     "output_type": "display_data"
    },
    {
     "data": {
      "image/png": "[encoded data removed]",
      "text/plain": [
       "<Figure size 1800x300 with 2 Axes>"
      ]
     },
     "metadata": {},
     "output_type": "display_data"
    }
   ],
   "source": [
    "import seaborn as sns\n",
    "# convert dataframe from wide format to long format\n",
    "df_melt = pd.melt(d[['date',\"smoothT\", \"target_ridecount_outflow\"]], id_vars=['date'], var_name='variable', value_name='value')\n",
    "\n",
    "# plot all the variables on the same chart\n",
    "sns.lineplot(x='date', y='value', hue='variable', data=df_melt)\n",
    "# display the chart\n",
    "plt.xticks(rotation=90)\n",
    "plt.show()\n",
    "\n",
    "g = sns.FacetGrid(data=df_melt, col=\"variable\", col_wrap=6)\n",
    "g.map(sns.lineplot, \"date\", \"value\")\n",
    "g.set_xticklabels(rotation=90)\n",
    "plt.show()"
   ]
  },
  {
   "attachments": {},
   "cell_type": "markdown",
   "metadata": {},
   "source": [
    "# Data Regularization"
   ]
  },
  {
   "cell_type": "code",
   "execution_count": 29,
   "metadata": {},
   "outputs": [
    {
     "data": {
      "text/plain": [
       "(621, 55)"
      ]
     },
     "execution_count": 29,
     "metadata": {},
     "output_type": "execute_result"
    }
   ],
   "source": [
    "d.shape"
   ]
  },
  {
   "cell_type": "code",
   "execution_count": 30,
   "metadata": {},
   "outputs": [
    {
     "data": {
      "text/plain": [
       "(229770, 54)"
      ]
     },
     "execution_count": 30,
     "metadata": {},
     "output_type": "execute_result"
    }
   ],
   "source": [
    "df.shape"
   ]
  },
  {
   "cell_type": "code",
   "execution_count": 31,
   "metadata": {},
   "outputs": [],
   "source": [
    "dff= d.copy()"
   ]
  },
  {
   "cell_type": "code",
   "execution_count": 33,
   "metadata": {},
   "outputs": [
    {
     "data": {
      "text/plain": [
       "Index(['date', 'station_id', 'station_name', 'station_lat', 'station_long',\n",
       "       'station_nts', 'station_boro', 'city', 'day', 'dayofweek', 'dayofyear',\n",
       "       'week', 'weekend', 'month', 'month_year', 'year',\n",
       "       'target_ridecount_outflow', 'neighbor_rco_T', 'boro_rco_T',\n",
       "       'city_rco_T', 'nyc_gasprice_avg', 'nyc_gasprice_avg_stdS',\n",
       "       'nyc_gasprice_avg_mmS', 'retail_traffic', 'grocery_pharma_traffic',\n",
       "       'parks_traffic', 'transit_traffic', 'workplace_traffic',\n",
       "       'residential_traffic', 'retail_traffic_stdS',\n",
       "       'grocery_pharma_traffic_stdS', 'parks_traffic_stdS',\n",
       "       'transit_traffic_stdS', 'workplace_traffic_stdS',\n",
       "       'residential_traffic_stdS', 'retail_traffic_mmS',\n",
       "       'grocery_pharma_traffic_mmS', 'parks_traffic_mmS',\n",
       "       'transit_traffic_mmS', 'workplace_traffic_mmS',\n",
       "       'residential_traffic_mmS', 'traffic_stdS_PC1', 'traffic_stdS_PC2',\n",
       "       'day_condition', 'temp_min', 'temp_max', 'temp_mean', 'precipprob_max',\n",
       "       'visibility_min', 'visibility_max', 'visibility_mean', 'uvindex_min',\n",
       "       'uvindex_max', 'uvindex_mean', 'smoothT'],\n",
       "      dtype='object')"
      ]
     },
     "execution_count": 33,
     "metadata": {},
     "output_type": "execute_result"
    }
   ],
   "source": [
    "d.columns"
   ]
  },
  {
   "cell_type": "code",
   "execution_count": 39,
   "metadata": {},
   "outputs": [
    {
     "data": {
      "text/plain": [
       "Intercept                 28625.111099\n",
       "year                        -14.146698\n",
       "month                        68.326998\n",
       "day                           2.249177\n",
       "dayofweek                     0.553833\n",
       "dayofyear                    -2.307463\n",
       "week                         -0.155537\n",
       "weekend                      -3.976702\n",
       "nyc_gasprice_avg            -11.730458\n",
       "retail_traffic                0.385349\n",
       "grocery_pharma_traffic       -0.238611\n",
       "parks_traffic                 0.279407\n",
       "transit_traffic               0.438126\n",
       "workplace_traffic            -0.535780\n",
       "residential_traffic          -1.386633\n",
       "temp_mean                     0.090257\n",
       "precipprob_max                0.905735\n",
       "visibility_mean              -1.430930\n",
       "uvindex_max                   0.298205\n",
       "dtype: float64"
      ]
     },
     "execution_count": 39,
     "metadata": {},
     "output_type": "execute_result"
    }
   ],
   "source": [
    "import statsmodels.formula.api as smf\n",
    "\n",
    "mod = smf.ols(formula='target_ridecount_outflow ~ year+month+day+dayofweek+dayofyear+week+weekend+month+nyc_gasprice_avg+retail_traffic+grocery_pharma_traffic+parks_traffic+transit_traffic+workplace_traffic+residential_traffic+temp_mean+precipprob_max+visibility_mean+uvindex_max', data=d)\n",
    "m= mod.fit()\n",
    "m.params"
   ]
  },
  {
   "cell_type": "code",
   "execution_count": 40,
   "metadata": {},
   "outputs": [
    {
     "data": {
      "text/html": [
       "<table class=\"simpletable\">\n",
       "<caption>OLS Regression Results</caption>\n",
       "<tr>\n",
       "  <th>Dep. Variable:</th>    <td>target_ridecount_outflow</td> <th>  R-squared:         </th> <td>   0.698</td> \n",
       "</tr>\n",
       "<tr>\n",
       "  <th>Model:</th>                       <td>OLS</td>           <th>  Adj. R-squared:    </th> <td>   0.689</td> \n",
       "</tr>\n",
       "<tr>\n",
       "  <th>Method:</th>                 <td>Least Squares</td>      <th>  F-statistic:       </th> <td>   77.31</td> \n",
       "</tr>\n",
       "<tr>\n",
       "  <th>Date:</th>                 <td>Sat, 29 Apr 2023</td>     <th>  Prob (F-statistic):</th> <td>3.19e-143</td>\n",
       "</tr>\n",
       "<tr>\n",
       "  <th>Time:</th>                     <td>16:15:30</td>         <th>  Log-Likelihood:    </th> <td> -2445.6</td> \n",
       "</tr>\n",
       "<tr>\n",
       "  <th>No. Observations:</th>          <td>   621</td>          <th>  AIC:               </th> <td>   4929.</td> \n",
       "</tr>\n",
       "<tr>\n",
       "  <th>Df Residuals:</th>              <td>   602</td>          <th>  BIC:               </th> <td>   5013.</td> \n",
       "</tr>\n",
       "<tr>\n",
       "  <th>Df Model:</th>                  <td>    18</td>          <th>                     </th>     <td> </td>    \n",
       "</tr>\n",
       "<tr>\n",
       "  <th>Covariance Type:</th>          <td>nonrobust</td>        <th>                     </th>     <td> </td>    \n",
       "</tr>\n",
       "</table>\n",
       "<table class=\"simpletable\">\n",
       "<tr>\n",
       "             <td></td>               <th>coef</th>     <th>std err</th>      <th>t</th>      <th>P>|t|</th>  <th>[0.025</th>    <th>0.975]</th>  \n",
       "</tr>\n",
       "<tr>\n",
       "  <th>Intercept</th>              <td> 2.863e+04</td> <td> 5389.961</td> <td>    5.311</td> <td> 0.000</td> <td>  1.8e+04</td> <td> 3.92e+04</td>\n",
       "</tr>\n",
       "<tr>\n",
       "  <th>year</th>                   <td>  -14.1467</td> <td>    2.663</td> <td>   -5.313</td> <td> 0.000</td> <td>  -19.376</td> <td>   -8.917</td>\n",
       "</tr>\n",
       "<tr>\n",
       "  <th>month</th>                  <td>   68.3270</td> <td>   29.566</td> <td>    2.311</td> <td> 0.021</td> <td>   10.262</td> <td>  126.392</td>\n",
       "</tr>\n",
       "<tr>\n",
       "  <th>day</th>                    <td>    2.2492</td> <td>    0.975</td> <td>    2.306</td> <td> 0.021</td> <td>    0.334</td> <td>    4.165</td>\n",
       "</tr>\n",
       "<tr>\n",
       "  <th>dayofweek</th>              <td>    0.5538</td> <td>    0.437</td> <td>    1.268</td> <td> 0.205</td> <td>   -0.304</td> <td>    1.412</td>\n",
       "</tr>\n",
       "<tr>\n",
       "  <th>dayofyear</th>              <td>   -2.3075</td> <td>    0.972</td> <td>   -2.374</td> <td> 0.018</td> <td>   -4.217</td> <td>   -0.398</td>\n",
       "</tr>\n",
       "<tr>\n",
       "  <th>week</th>                   <td>   -0.1555</td> <td>    0.182</td> <td>   -0.855</td> <td> 0.393</td> <td>   -0.513</td> <td>    0.202</td>\n",
       "</tr>\n",
       "<tr>\n",
       "  <th>weekend</th>                <td>   -3.9767</td> <td>    3.091</td> <td>   -1.286</td> <td> 0.199</td> <td>  -10.048</td> <td>    2.094</td>\n",
       "</tr>\n",
       "<tr>\n",
       "  <th>nyc_gasprice_avg</th>       <td>  -11.7305</td> <td>    1.713</td> <td>   -6.848</td> <td> 0.000</td> <td>  -15.095</td> <td>   -8.366</td>\n",
       "</tr>\n",
       "<tr>\n",
       "  <th>retail_traffic</th>         <td>    0.3853</td> <td>    0.173</td> <td>    2.223</td> <td> 0.027</td> <td>    0.045</td> <td>    0.726</td>\n",
       "</tr>\n",
       "<tr>\n",
       "  <th>grocery_pharma_traffic</th> <td>   -0.2386</td> <td>    0.157</td> <td>   -1.521</td> <td> 0.129</td> <td>   -0.547</td> <td>    0.069</td>\n",
       "</tr>\n",
       "<tr>\n",
       "  <th>parks_traffic</th>          <td>    0.2794</td> <td>    0.042</td> <td>    6.712</td> <td> 0.000</td> <td>    0.198</td> <td>    0.361</td>\n",
       "</tr>\n",
       "<tr>\n",
       "  <th>transit_traffic</th>        <td>    0.4381</td> <td>    0.294</td> <td>    1.492</td> <td> 0.136</td> <td>   -0.139</td> <td>    1.015</td>\n",
       "</tr>\n",
       "<tr>\n",
       "  <th>workplace_traffic</th>      <td>   -0.5358</td> <td>    0.182</td> <td>   -2.940</td> <td> 0.003</td> <td>   -0.894</td> <td>   -0.178</td>\n",
       "</tr>\n",
       "<tr>\n",
       "  <th>residential_traffic</th>    <td>   -1.3866</td> <td>    0.499</td> <td>   -2.779</td> <td> 0.006</td> <td>   -2.366</td> <td>   -0.407</td>\n",
       "</tr>\n",
       "<tr>\n",
       "  <th>temp_mean</th>              <td>    0.0903</td> <td>    0.068</td> <td>    1.328</td> <td> 0.185</td> <td>   -0.043</td> <td>    0.224</td>\n",
       "</tr>\n",
       "<tr>\n",
       "  <th>precipprob_max</th>         <td>    0.9057</td> <td>    1.202</td> <td>    0.753</td> <td> 0.451</td> <td>   -1.455</td> <td>    3.267</td>\n",
       "</tr>\n",
       "<tr>\n",
       "  <th>visibility_mean</th>        <td>   -1.4309</td> <td>    0.702</td> <td>   -2.038</td> <td> 0.042</td> <td>   -2.810</td> <td>   -0.052</td>\n",
       "</tr>\n",
       "<tr>\n",
       "  <th>uvindex_max</th>            <td>    0.2982</td> <td>    0.308</td> <td>    0.967</td> <td> 0.334</td> <td>   -0.307</td> <td>    0.904</td>\n",
       "</tr>\n",
       "</table>\n",
       "<table class=\"simpletable\">\n",
       "<tr>\n",
       "  <th>Omnibus:</th>       <td>330.763</td> <th>  Durbin-Watson:     </th> <td>   1.355</td>\n",
       "</tr>\n",
       "<tr>\n",
       "  <th>Prob(Omnibus):</th> <td> 0.000</td>  <th>  Jarque-Bera (JB):  </th> <td>6319.422</td>\n",
       "</tr>\n",
       "<tr>\n",
       "  <th>Skew:</th>          <td> 1.920</td>  <th>  Prob(JB):          </th> <td>    0.00</td>\n",
       "</tr>\n",
       "<tr>\n",
       "  <th>Kurtosis:</th>      <td>18.149</td>  <th>  Cond. No.          </th> <td>2.16e+07</td>\n",
       "</tr>\n",
       "</table><br/><br/>Notes:<br/>[1] Standard Errors assume that the covariance matrix of the errors is correctly specified.<br/>[2] The condition number is large, 2.16e+07. This might indicate that there are<br/>strong multicollinearity or other numerical problems."
      ],
      "text/plain": [
       "<class 'statsmodels.iolib.summary.Summary'>\n",
       "\"\"\"\n",
       "                               OLS Regression Results                               \n",
       "====================================================================================\n",
       "Dep. Variable:     target_ridecount_outflow   R-squared:                       0.698\n",
       "Model:                                  OLS   Adj. R-squared:                  0.689\n",
       "Method:                       Least Squares   F-statistic:                     77.31\n",
       "Date:                      Sat, 29 Apr 2023   Prob (F-statistic):          3.19e-143\n",
       "Time:                              16:15:30   Log-Likelihood:                -2445.6\n",
       "No. Observations:                       621   AIC:                             4929.\n",
       "Df Residuals:                           602   BIC:                             5013.\n",
       "Df Model:                                18                                         \n",
       "Covariance Type:                  nonrobust                                         \n",
       "==========================================================================================\n",
       "                             coef    std err          t      P>|t|      [0.025      0.975]\n",
       "------------------------------------------------------------------------------------------\n",
       "Intercept               2.863e+04   5389.961      5.311      0.000     1.8e+04    3.92e+04\n",
       "year                     -14.1467      2.663     -5.313      0.000     -19.376      -8.917\n",
       "month                     68.3270     29.566      2.311      0.021      10.262     126.392\n",
       "day                        2.2492      0.975      2.306      0.021       0.334       4.165\n",
       "dayofweek                  0.5538      0.437      1.268      0.205      -0.304       1.412\n",
       "dayofyear                 -2.3075      0.972     -2.374      0.018      -4.217      -0.398\n",
       "week                      -0.1555      0.182     -0.855      0.393      -0.513       0.202\n",
       "weekend                   -3.9767      3.091     -1.286      0.199     -10.048       2.094\n",
       "nyc_gasprice_avg         -11.7305      1.713     -6.848      0.000     -15.095      -8.366\n",
       "retail_traffic             0.3853      0.173      2.223      0.027       0.045       0.726\n",
       "grocery_pharma_traffic    -0.2386      0.157     -1.521      0.129      -0.547       0.069\n",
       "parks_traffic              0.2794      0.042      6.712      0.000       0.198       0.361\n",
       "transit_traffic            0.4381      0.294      1.492      0.136      -0.139       1.015\n",
       "workplace_traffic         -0.5358      0.182     -2.940      0.003      -0.894      -0.178\n",
       "residential_traffic       -1.3866      0.499     -2.779      0.006      -2.366      -0.407\n",
       "temp_mean                  0.0903      0.068      1.328      0.185      -0.043       0.224\n",
       "precipprob_max             0.9057      1.202      0.753      0.451      -1.455       3.267\n",
       "visibility_mean           -1.4309      0.702     -2.038      0.042      -2.810      -0.052\n",
       "uvindex_max                0.2982      0.308      0.967      0.334      -0.307       0.904\n",
       "==============================================================================\n",
       "Omnibus:                      330.763   Durbin-Watson:                   1.355\n",
       "Prob(Omnibus):                  0.000   Jarque-Bera (JB):             6319.422\n",
       "Skew:                           1.920   Prob(JB):                         0.00\n",
       "Kurtosis:                      18.149   Cond. No.                     2.16e+07\n",
       "==============================================================================\n",
       "\n",
       "Notes:\n",
       "[1] Standard Errors assume that the covariance matrix of the errors is correctly specified.\n",
       "[2] The condition number is large, 2.16e+07. This might indicate that there are\n",
       "strong multicollinearity or other numerical problems.\n",
       "\"\"\""
      ]
     },
     "execution_count": 40,
     "metadata": {},
     "output_type": "execute_result"
    }
   ],
   "source": [
    "m.summary()"
   ]
  },
  {
   "cell_type": "code",
   "execution_count": 42,
   "metadata": {},
   "outputs": [],
   "source": [
    "import pandas as pd\n",
    "import seaborn as sns\n",
    "import matplotlib.pyplot as plt\n",
    "import numpy as np\n",
    "# time series - statsmodels \n",
    "# Seasonality decomposition\n",
    "from statsmodels.tsa.seasonal import seasonal_decompose\n",
    "from statsmodels.tsa.seasonal import seasonal_decompose \n",
    "# holt winters \n",
    "# single exponential smoothing\n",
    "from statsmodels.tsa.holtwinters import SimpleExpSmoothing,Holt \n",
    "# double and triple exponential smoothing\n",
    "from statsmodels.tsa.holtwinters import ExponentialSmoothing\n",
    "\n",
    "import statsmodels.api as sm\n"
   ]
  },
  {
   "cell_type": "code",
   "execution_count": 43,
   "metadata": {},
   "outputs": [],
   "source": [
    "import pandas as pd\n",
    "from sklearn.linear_model import Lasso, Ridge\n",
    "from sklearn.model_selection import cross_val_score\n",
    "from sklearn.linear_model import LinearRegression"
   ]
  },
  {
   "cell_type": "code",
   "execution_count": 44,
   "metadata": {},
   "outputs": [
    {
     "data": {
      "text/plain": [
       "Index(['date', 'station_id', 'station_name', 'station_lat', 'station_long',\n",
       "       'station_nts', 'station_boro', 'city', 'day', 'dayofweek', 'dayofyear',\n",
       "       'week', 'weekend', 'month', 'month_year', 'year',\n",
       "       'target_ridecount_outflow', 'neighbor_rco_T', 'boro_rco_T',\n",
       "       'city_rco_T', 'nyc_gasprice_avg', 'nyc_gasprice_avg_stdS',\n",
       "       'nyc_gasprice_avg_mmS', 'retail_traffic', 'grocery_pharma_traffic',\n",
       "       'parks_traffic', 'transit_traffic', 'workplace_traffic',\n",
       "       'residential_traffic', 'retail_traffic_stdS',\n",
       "       'grocery_pharma_traffic_stdS', 'parks_traffic_stdS',\n",
       "       'transit_traffic_stdS', 'workplace_traffic_stdS',\n",
       "       'residential_traffic_stdS', 'retail_traffic_mmS',\n",
       "       'grocery_pharma_traffic_mmS', 'parks_traffic_mmS',\n",
       "       'transit_traffic_mmS', 'workplace_traffic_mmS',\n",
       "       'residential_traffic_mmS', 'traffic_stdS_PC1', 'traffic_stdS_PC2',\n",
       "       'day_condition', 'temp_min', 'temp_max', 'temp_mean', 'precipprob_max',\n",
       "       'visibility_min', 'visibility_max', 'visibility_mean', 'uvindex_min',\n",
       "       'uvindex_max', 'uvindex_mean', 'smoothT'],\n",
       "      dtype='object')"
      ]
     },
     "execution_count": 44,
     "metadata": {},
     "output_type": "execute_result"
    }
   ],
   "source": [
    "d.columns"
   ]
  },
  {
   "cell_type": "code",
   "execution_count": null,
   "metadata": {},
   "outputs": [],
   "source": [
    "lin_regressor = LinearRegression()\n",
    "mse= cross_val_score(lin_regressor,X,y,scoring='neg_mean_squared_error',cv=5)\n",
    "mean_mse=np.mean(mse)\n",
    "print(mean_mse)\n",
    "i=0\n",
    "rigdereg=Ridge()\n",
    "y = d['target_ridecount_outflow']\n",
    "X = d.drop(['target_ridecount_outflow'], axis=1)\n",
    "scaler= StandardScaler()\n",
    "X = pd.DataFrame(scaler.fit_transform(X), columns=X.columns)\n",
    "rigdereg(X,y)\n",
    "#lassoreg(X,y)\n",
    "lin_regressor = LinearRegression()\n",
    "mse= cross_val_score(lin_regressor,X,y,scoring='neg_mean_squared_error',cv=5)\n",
    "mean_mse=np.mean(mse)\n",
    "print(mean_mse)"
   ]
  }
 ],
 "metadata": {
  "kernelspec": {
   "display_name": "base",
   "language": "python",
   "name": "python3"
  },
  "language_info": {
   "codemirror_mode": {
    "name": "ipython",
    "version": 3
   },
   "file_extension": ".py",
   "mimetype": "text/x-python",
   "name": "python",
   "nbconvert_exporter": "python",
   "pygments_lexer": "ipython3",
   "version": "3.8.13"
  },
  "orig_nbformat": 4
 },
 "nbformat": 4,
 "nbformat_minor": 2
}
